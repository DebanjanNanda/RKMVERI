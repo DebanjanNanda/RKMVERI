{
 "cells": [
  {
   "cell_type": "code",
   "execution_count": 19,
   "id": "7318da17",
   "metadata": {},
   "outputs": [],
   "source": [
    "\"\"\"\n",
    "-----------------------------------------------------------------------------\n",
    "Assignment-1: Matrix computation exercise using python and numpy\n",
    "-----------------------------------------------------------------------------\n",
    "AUTHOR: Soumitra Samanta (soumitra.samanta@gm.rkmvu.ac.in)\n",
    "-----------------------------------------------------------------------------\n",
    "Package required:\n",
    "Numpy: https://numpy.org/\n",
    "Matplotlib: https://matplotlib.org\n",
    "-----------------------------------------------------------------------------\n",
    "\"\"\"\n",
    "\n",
    "import numpy as np\n",
    "import random\n",
    "from numpy.random import RandomState\n",
    "\n",
    "from typing import Tuple\n",
    "\n",
    "np.random.seed(42)# To reproduce the random numbers\n",
    "\n"
   ]
  },
  {
   "cell_type": "markdown",
   "id": "f981d248",
   "metadata": {},
   "source": [
    "# Generate a random vector $x \\in \\mathbf{R}^{n}$ contains intergers between $[-l, l]$.\n",
    "[3 points]"
   ]
  },
  {
   "cell_type": "code",
   "execution_count": 20,
   "id": "7abfce98",
   "metadata": {},
   "outputs": [
    {
     "name": "stdout",
     "output_type": "stream",
     "text": [
      "A random vector of size 10: \n",
      "----------------------------------------------------------------------\n",
      "x:[-9, -2, -9, 0, 4, -2, -7, -8, 0, -5] \n",
      "----------------------------------------------------------------------\n"
     ]
    }
   ],
   "source": [
    "n = 10\n",
    "l = 9\n",
    "x=[]\n",
    "############################################################################\n",
    "#                             Your code will be here                       #\n",
    "#--------------------------------------------------------------------------#\n",
    "x = [random.randint(-l, l) for _ in range(n)]\n",
    "#--------------------------------------------------------------------------#\n",
    "#                             End of your code                             #\n",
    "############################################################################\n",
    "\n",
    "print('A random vector of size {}: ' .format(n))\n",
    "print('-'*70)\n",
    "print('x:{} ' .format(x))\n",
    "print('-'*70)"
   ]
  },
  {
   "cell_type": "markdown",
   "id": "2a0c1c9c",
   "metadata": {},
   "source": [
    "# Write a function to calculate the 'dot' product between two vectors. Generate two random vectors $x, y \\in \\mathbf{R}^{n}$ contains intergers between $[-l, l]$ and find the dot product between $x$ and $y$ (your function should handle different order vectors). Check your result with the [numpy.dot](https://numpy.org/doc/stable/reference/generated/numpy.dot.html).\n",
    "[5 points]\n",
    "\n",
    "\n"
   ]
  },
  {
   "cell_type": "code",
   "execution_count": 21,
   "id": "29a4584f",
   "metadata": {},
   "outputs": [
    {
     "name": "stdout",
     "output_type": "stream",
     "text": [
      "Two random vectors of size 10 are:\n",
      "----------------------------------------------------------------------\n",
      "x: [-8, -7, 9, 8, -3, 0, 3, 8, 5, 1]\n",
      "and \n",
      "y: [9, -9, -2, 8, -3, 6, -4, -7, 2, -2]\n",
      "----------------------------------------------------------------------\n",
      "The dot product between x and y is: [-14]\n",
      "dot product is valid \n",
      "----------------------------------------------------------------------\n"
     ]
    }
   ],
   "source": [
    "n = 10\n",
    "l = 9\n",
    "x = []\n",
    "y = []\n",
    "\n",
    "def vector_dot_product(\n",
    "    x: np.array,\n",
    "    y: np.array,\n",
    ")->float:\n",
    "    \"\"\"\n",
    "    Dot product between two vectors\n",
    "    \n",
    "    Inputs:\n",
    "        - x: 1st vector\n",
    "        - y: 2nd vector\n",
    "       \n",
    "    Output:\n",
    "        - val: Dot product between x and y\n",
    "    \n",
    "    \"\"\"\n",
    "    \n",
    "    val = []\n",
    "    ############################################################################\n",
    "    #                             Your code will be here                       #\n",
    "    #--------------------------------------------------------------------------#\n",
    "  \n",
    "    # x = [random.randint(-l, l) for _ in range(n)]\n",
    "    # y = [random.randint(-l, l) for _ in range(n)]\n",
    "    sum=0\n",
    "    for i in range(len(x)):\n",
    "        sum+=x[i] * y[i]\n",
    "    val.append(sum)\n",
    "\n",
    "    #--------------------------------------------------------------------------#\n",
    "    #                             End of your code                             #\n",
    "    ############################################################################\n",
    "    \n",
    "    return val\n",
    "\n",
    "# np.random.seed(42)# for reproduce the random numbers\n",
    "x = []\n",
    "y = []\n",
    "x = [random.randint(-l, l) for _ in range(n)]\n",
    "y = [random.randint(-l, l) for _ in range(n)]\n",
    "\n",
    "print('Two random vectors of size {} are:' .format(n))\n",
    "print('-'*70)\n",
    "print('x: {}\\nand \\ny: {}' .format(x, y))\n",
    "print('-'*70)\n",
    "\n",
    "val = vector_dot_product(x, y)\n",
    "print('The dot product between x and y is: {}' .format(val))\n",
    "dot_product=np.dot(x,y)\n",
    "if val[0]==dot_product:\n",
    "        print(\"dot product is valid \")\n",
    "print('-'*70)"
   ]
  },
  {
   "cell_type": "markdown",
   "id": "8c35a511",
   "metadata": {},
   "source": [
    "# Generate a random matrix $A$ of size $m \\times n$ contains intergers between $[-l, l]$.\n",
    "[2 points]"
   ]
  },
  {
   "cell_type": "code",
   "execution_count": 22,
   "id": "e8568a9c",
   "metadata": {},
   "outputs": [
    {
     "name": "stdout",
     "output_type": "stream",
     "text": [
      "A random matrix of size 3x5 A:\n",
      "[[ 1  1  9  8 -2]\n",
      " [ 3 -9  4 -8 -6]\n",
      " [-4  8 -9  0  8]]: \n",
      "----------------------------------------------------------------------\n"
     ]
    }
   ],
   "source": [
    "m = 3\n",
    "n = 5\n",
    "l = 9\n",
    "A = []\n",
    "############################################################################\n",
    "#                             Your code will be here                       #\n",
    "#--------------------------------------------------------------------------#\n",
    "A = np.array([[random.randint(-l, l) for _ in range(n)] for _ in range(m)])\n",
    "\n",
    "#--------------------------------------------------------------------------#\n",
    "#                             End of your code                             #\n",
    "############################################################################\n",
    "\n",
    "print('A random matrix of size {}x{} A:\\n{}: ' .format(m, n, A))\n",
    "print('-'*70)\n",
    "\n"
   ]
  },
  {
   "cell_type": "markdown",
   "id": "8d2d1ca3",
   "metadata": {},
   "source": [
    "# Write a function to calculate the product of two matrices. Generate two random matrices $x \\in \\mathbf{R}^{m \\times n}$ and $y \\in \\mathbf{R}^{n \\times m}$ contains intergers between $[-l, l]$ and find the product of of $x$ and $y$ (your function should handle different order matrices). Check your result with the [numpy.matmul](https://numpy.org/doc/stable/reference/generated/numpy.matmul.html) or [numpy.dot](https://numpy.org/doc/stable/reference/generated/numpy.dot.html).\n",
    "\n",
    "[10 points]\n",
    "\n",
    "\n"
   ]
  },
  {
   "cell_type": "code",
   "execution_count": 23,
   "id": "bd7602d8",
   "metadata": {},
   "outputs": [
    {
     "name": "stdout",
     "output_type": "stream",
     "text": [
      "Two random matrices are:\n",
      "A: \n",
      "[[-5  3  5  9  5]\n",
      " [ 8 -2 -5  2  1]\n",
      " [ 0  0  7 -3  9]]\n",
      "and\n",
      "B: \n",
      "[[-3 -3 -7]\n",
      " [ 3  3 -1]\n",
      " [-3 -9 -2]\n",
      " [ 7 -7 -2]\n",
      " [-6 -3 -1]]\n",
      "----------------------------------------------------------------------\n",
      "The multiplication of A and B using my function is: \n",
      "[[ 42 -99  -1]\n",
      " [ -7  -2 -49]\n",
      " [-96 -69 -17]]\n",
      "----------------------------------------------------------------------\n",
      "The multiplication of A and B using numpy.matmul is: \n",
      "[[ 42 -99  -1]\n",
      " [ -7  -2 -49]\n",
      " [-96 -69 -17]]\n",
      "----------------------------------------------------------------------\n",
      "The multiplication of A and B using numpy.dot is: \n",
      "[[ 42 -99  -1]\n",
      " [ -7  -2 -49]\n",
      " [-96 -69 -17]]\n",
      "----------------------------------------------------------------------\n"
     ]
    }
   ],
   "source": [
    "m = 3\n",
    "n = 5\n",
    "l = 9\n",
    "x = []\n",
    "y = []\n",
    "\n",
    "def matrix_multiplication(\n",
    "    x: np.array,\n",
    "    y: np.array,\n",
    ")->np.array:\n",
    "    \"\"\"\n",
    "    Dot product between two vectors\n",
    "    \n",
    "    Inputs:\n",
    "        - x: 1st matrix\n",
    "        - y: 2nd matrix\n",
    "       \n",
    "    Output:\n",
    "        - val: multiplication x and y\n",
    "    \n",
    "    \"\"\"\n",
    "    \n",
    "    val = []\n",
    "    ############################################################################\n",
    "    #                             Your code will be here                       #\n",
    "    #--------------------------------------------------------------------------#\n",
    "    \n",
    "    if len(x) != len(y[0]):\n",
    "        raise ValueError(\"Number of columns in the first matrix must equal the number of rows in the second matrix\")        \n",
    "    m = len(x)\n",
    "    n = len(y[0])\n",
    "    val = [[0 for _ in range(n)] for _ in range(m)]\n",
    "    for i in range(m):\n",
    "        for j in range(n):\n",
    "            for k in range(len(y)):\n",
    "                val[i][j] += x[i][k] * y[k][j]\n",
    "        \n",
    "\n",
    "            \n",
    "    #--------------------------------------------------------------------------#\n",
    "    #                             End of your code                             #\n",
    "    ############################################################################\n",
    "    \n",
    "    return val\n",
    "\n",
    "# np.random.seed(42)# for reproduce the random numbers\n",
    "A=[]\n",
    "B=[]\n",
    "A=np.array([[random.randint(-l, l) for _ in range(n)] for _ in range(m)])\n",
    "B=np.array([[random.randint(-l, l) for _ in range(m)] for _ in range(n)])\n",
    "\n",
    "print('Two random matrices are:')\n",
    "print('A: \\n{}\\nand\\nB: \\n{}' .format(A, B))\n",
    "print('-'*70)\n",
    "\n",
    "val = np. array(matrix_multiplication(A, B))\n",
    "print('The multiplication of A and B using my function is: \\n{}' .format(val))\n",
    "print('-'*70)\n",
    "\n",
    "val1 = np.matmul(A, B)\n",
    "print('The multiplication of A and B using numpy.matmul is: \\n{}' .format(val1))\n",
    "print('-'*70)\n",
    "\n",
    "val1 = np.dot(A, B)\n",
    "print('The multiplication of A and B using numpy.dot is: \\n{}' .format(val1))\n",
    "print('-'*70)\n"
   ]
  },
  {
   "cell_type": "code",
   "execution_count": null,
   "id": "56998f7d",
   "metadata": {},
   "outputs": [],
   "source": []
  }
 ],
 "metadata": {
  "kernelspec": {
   "display_name": "Python 3 (ipykernel)",
   "language": "python",
   "name": "python3"
  },
  "language_info": {
   "codemirror_mode": {
    "name": "ipython",
    "version": 3
   },
   "file_extension": ".py",
   "mimetype": "text/x-python",
   "name": "python",
   "nbconvert_exporter": "python",
   "pygments_lexer": "ipython3",
   "version": "3.11.4"
  }
 },
 "nbformat": 4,
 "nbformat_minor": 5
}
